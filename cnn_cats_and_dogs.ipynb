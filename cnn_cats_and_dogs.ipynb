{
 "cells": [
  {
   "cell_type": "code",
   "execution_count": 11,
   "id": "9e735ca8",
   "metadata": {},
   "outputs": [],
   "source": [
    "import tensorflow as tf\n",
    "import tensorflow_datasets as tfds\n",
    "from tensorflow import keras\n",
    "from matplotlib import pyplot as plt\n",
    "\n",
    "def preprocess (img, label):\n",
    "    return tf.image.resize(img, [200, 200])/255, label\n",
    "\n",
    "split = [\"train[:70%]\", \"train[70%:]\"]\n",
    "\n",
    "trainDataset, testDataset = tfds.load(name = \"cats_vs_dogs\", split = split, as_supervised = True)\n",
    "\n",
    "trainDataset = trainDataset.map(preprocess).batch(32)\n",
    "testDataset = trainDataset.map(preprocess).batch(32)"
   ]
  },
  {
   "cell_type": "code",
   "execution_count": null,
   "id": "d51269da",
   "metadata": {},
   "outputs": [
    {
     "name": "stdout",
     "output_type": "stream",
     "text": [
      "Epoch 1/10\n",
      "167/509 [========>.....................] - ETA: 5:52 - loss: 0.6654 - accuracy: 0.6054"
     ]
    },
    {
     "name": "stderr",
     "output_type": "stream",
     "text": [
      "Corrupt JPEG data: 99 extraneous bytes before marker 0xd9\n"
     ]
    },
    {
     "name": "stdout",
     "output_type": "stream",
     "text": [
      "203/509 [==========>...................] - ETA: 5:13 - loss: 0.6533 - accuracy: 0.6188"
     ]
    },
    {
     "name": "stderr",
     "output_type": "stream",
     "text": [
      "Corrupt JPEG data: 396 extraneous bytes before marker 0xd9\n"
     ]
    },
    {
     "name": "stdout",
     "output_type": "stream",
     "text": [
      "273/509 [===============>..............] - ETA: 3:59 - loss: 0.6263 - accuracy: 0.6465"
     ]
    },
    {
     "name": "stderr",
     "output_type": "stream",
     "text": [
      "Corrupt JPEG data: 65 extraneous bytes before marker 0xd9\n"
     ]
    },
    {
     "name": "stdout",
     "output_type": "stream",
     "text": [
      "343/509 [===================>..........] - ETA: 2:49 - loss: 0.6102 - accuracy: 0.6637"
     ]
    }
   ],
   "source": [
    "model = keras.Sequential([\n",
    "    keras.layers.Conv2D(16, (3, 3), activation = 'relu', input_shape = (200, 200, 3)),\n",
    "    keras.layers.MaxPooling2D((2, 2)),\n",
    "    keras.layers.Conv2D(32, (3, 3), activation = 'relu'),\n",
    "    keras.layers.MaxPooling2D((2, 2)),\n",
    "    keras.layers.Conv2D(64, (3, 3), activation = 'relu'),\n",
    "    keras.layers.MaxPooling2D((2, 2)),\n",
    "    keras.layers.Flatten(),\n",
    "    keras.layers.Dense(512, activation = 'relu'),\n",
    "    keras.layers.Dense(1, activation = 'sigmoid'),\n",
    "    \n",
    "])\n",
    "\n",
    "model.compile(optimizer = 'adam', loss='binary_crossentropy', metrics = ['accuracy'])\n",
    "trainHistory = model.fit(trainDataset, epochs = 10, validation_data = testDataset)\n",
    "plt.plot(trainHistory.history['accuracy'])\n",
    "plt.plot(trainHistory.history['val_accuracy'])\n",
    "plt.ylabel('Accuracy')\n",
    "plt.xlabel('Epoch')\n",
    "plt.legend(['Training', 'Validation'])\n",
    "plt.grid()\n",
    "plt.show()\n",
    "\n",
    "(loss, accuracy) = model.evaluate(testDatasetDataset)\n",
    "print(loss)\n",
    "print(accuracy)\n",
    "model.save(\"mode1.h5\")\n"
   ]
  },
  {
   "cell_type": "code",
   "execution_count": null,
   "id": "a26fe8d9",
   "metadata": {},
   "outputs": [],
   "source": [
    "model = keras.models.load_model(\"model.h5\")\n",
    "predictions = model.predict(testDataset.take(8))\n",
    "\n",
    "classNames = ['cat', 'dog']\n",
    "i = 0\n",
    "fig, ax = plt.subplot(1, 8)\n",
    "for image, _ in testDataset.take(8):\n",
    "    predictedLabel = int(prediction[i]  >= 0.5)\n",
    "    \n",
    "    ax[i].axis('off')\n",
    "    ax[i].set_title(classNames[predictedLabel])\n",
    "    ax[i].imshow(image[0])\n",
    "    i += 1\n",
    "plt.show()"
   ]
  },
  {
   "cell_type": "code",
   "execution_count": null,
   "id": "aea3c571",
   "metadata": {},
   "outputs": [],
   "source": []
  }
 ],
 "metadata": {
  "kernelspec": {
   "display_name": "Python 3 (ipykernel)",
   "language": "python",
   "name": "python3"
  },
  "language_info": {
   "codemirror_mode": {
    "name": "ipython",
    "version": 3
   },
   "file_extension": ".py",
   "mimetype": "text/x-python",
   "name": "python",
   "nbconvert_exporter": "python",
   "pygments_lexer": "ipython3",
   "version": "3.9.12"
  }
 },
 "nbformat": 4,
 "nbformat_minor": 5
}

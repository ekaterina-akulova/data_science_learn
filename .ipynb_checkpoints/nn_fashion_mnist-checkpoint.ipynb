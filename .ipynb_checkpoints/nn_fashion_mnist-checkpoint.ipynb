{
 "cells": [
  {
   "cell_type": "code",
   "execution_count": 3,
   "id": "82001b7f",
   "metadata": {},
   "outputs": [],
   "source": [
    "import tensorflow as tf\n",
    "from tensorflow import keras\n",
    "import numpy as np\n",
    "import matplotlib.pyplot as plt"
   ]
  },
  {
   "cell_type": "code",
   "execution_count": 5,
   "id": "53490c73",
   "metadata": {},
   "outputs": [
    {
     "name": "stdout",
     "output_type": "stream",
     "text": [
      "Downloading data from https://storage.googleapis.com/tensorflow/tf-keras-datasets/train-labels-idx1-ubyte.gz\n",
      "29515/29515 [==============================] - 0s 0us/step\n",
      "Downloading data from https://storage.googleapis.com/tensorflow/tf-keras-datasets/train-images-idx3-ubyte.gz\n",
      "26421880/26421880 [==============================] - 1s 0us/step\n",
      "Downloading data from https://storage.googleapis.com/tensorflow/tf-keras-datasets/t10k-labels-idx1-ubyte.gz\n",
      "5148/5148 [==============================] - 0s 0us/step\n",
      "Downloading data from https://storage.googleapis.com/tensorflow/tf-keras-datasets/t10k-images-idx3-ubyte.gz\n",
      "4422102/4422102 [==============================] - 0s 0us/step\n"
     ]
    }
   ],
   "source": [
    "fashion_mnist = keras.datasets.fashion_mnist\n",
    "(train_images, train_labels), (test_images, test_labels) = fashion_mnist.load_data()"
   ]
  },
  {
   "cell_type": "code",
   "execution_count": 6,
   "id": "948d55f0",
   "metadata": {},
   "outputs": [],
   "source": [
    "train_images = train_images/255.0\n",
    "test_images = test_images/255.0"
   ]
  },
  {
   "cell_type": "code",
   "execution_count": 8,
   "id": "352d7a27",
   "metadata": {},
   "outputs": [],
   "source": [
    "model = keras.Sequential([\n",
    "    keras.layers.Flatten(),\n",
    "    keras.layers.Dense(512, activation = tf.nn.relu),\n",
    "    keras.layers.Dense(256, activation = tf.nn.relu),\n",
    "    keras.layers.Dense(10, activation = tf.nn.softmax)\n",
    "])"
   ]
  },
  {
   "cell_type": "code",
   "execution_count": 11,
   "id": "4ef7724c",
   "metadata": {},
   "outputs": [
    {
     "name": "stdout",
     "output_type": "stream",
     "text": [
      "Epoch 1/18\n",
      "1875/1875 [==============================] - 13s 7ms/step - loss: 0.4689 - accuracy: 0.8309\n",
      "Epoch 2/18\n",
      "1875/1875 [==============================] - 12s 6ms/step - loss: 0.3566 - accuracy: 0.8682\n",
      "Epoch 3/18\n",
      "1875/1875 [==============================] - 12s 7ms/step - loss: 0.3196 - accuracy: 0.8805\n",
      "Epoch 4/18\n",
      "1875/1875 [==============================] - 16s 8ms/step - loss: 0.2947 - accuracy: 0.8901\n",
      "Epoch 5/18\n",
      "1875/1875 [==============================] - 12s 6ms/step - loss: 0.2763 - accuracy: 0.8971\n",
      "Epoch 6/18\n",
      "1875/1875 [==============================] - 12s 6ms/step - loss: 0.2632 - accuracy: 0.9003\n",
      "Epoch 7/18\n",
      "1875/1875 [==============================] - 13s 7ms/step - loss: 0.2476 - accuracy: 0.9066\n",
      "Epoch 8/18\n",
      "1875/1875 [==============================] - 11s 6ms/step - loss: 0.2410 - accuracy: 0.9087\n",
      "Epoch 9/18\n",
      "1875/1875 [==============================] - 11s 6ms/step - loss: 0.2289 - accuracy: 0.9127\n",
      "Epoch 10/18\n",
      "1875/1875 [==============================] - 11s 6ms/step - loss: 0.2196 - accuracy: 0.9173\n",
      "Epoch 11/18\n",
      "1875/1875 [==============================] - 12s 7ms/step - loss: 0.2097 - accuracy: 0.9200\n",
      "Epoch 12/18\n",
      "1875/1875 [==============================] - 11s 6ms/step - loss: 0.2006 - accuracy: 0.9235\n",
      "Epoch 13/18\n",
      "1875/1875 [==============================] - 11s 6ms/step - loss: 0.1957 - accuracy: 0.9245\n",
      "Epoch 14/18\n",
      "1875/1875 [==============================] - 11s 6ms/step - loss: 0.1860 - accuracy: 0.9284\n",
      "Epoch 15/18\n",
      "1875/1875 [==============================] - 11s 6ms/step - loss: 0.1805 - accuracy: 0.9300\n",
      "Epoch 16/18\n",
      "1875/1875 [==============================] - 11s 6ms/step - loss: 0.1749 - accuracy: 0.9326\n",
      "Epoch 17/18\n",
      "1875/1875 [==============================] - 11s 6ms/step - loss: 0.1671 - accuracy: 0.9358\n",
      "Epoch 18/18\n",
      "1875/1875 [==============================] - 11s 6ms/step - loss: 0.1665 - accuracy: 0.9355\n"
     ]
    },
    {
     "data": {
      "text/plain": [
       "<keras.callbacks.History at 0x7fde1fa69ee0>"
      ]
     },
     "execution_count": 11,
     "metadata": {},
     "output_type": "execute_result"
    }
   ],
   "source": [
    "model.compile(optimizer = 'adam', loss = \"sparse_categorical_crossentropy\", metrics = ['accuracy'])\n",
    "model.fit(train_images, train_labels, epochs = 18)\n"
   ]
  },
  {
   "cell_type": "code",
   "execution_count": 12,
   "id": "1c173dd0",
   "metadata": {},
   "outputs": [
    {
     "name": "stdout",
     "output_type": "stream",
     "text": [
      "313/313 [==============================] - 1s 4ms/step - loss: 0.3902 - accuracy: 0.8913\n",
      "313/313 [==============================] - 1s 3ms/step\n"
     ]
    }
   ],
   "source": [
    "model.evaluate(test_images, test_labels)\n",
    "predictions = model.predict(test_images)"
   ]
  },
  {
   "cell_type": "code",
   "execution_count": 15,
   "id": "4be10263",
   "metadata": {},
   "outputs": [
    {
     "name": "stdout",
     "output_type": "stream",
     "text": [
      "[1.7108146e-12 5.4777232e-18 4.4956140e-13 1.0428443e-19 1.1986867e-19\n",
      " 3.5200124e-08 6.3390306e-14 2.8932858e-08 1.0074302e-18 9.9999988e-01]\n",
      "9\n"
     ]
    }
   ],
   "source": [
    "print(predictions[0])\n",
    "print(test_labels[0])"
   ]
  },
  {
   "cell_type": "code",
   "execution_count": 18,
   "id": "e1df243f",
   "metadata": {},
   "outputs": [
    {
     "data": {
      "text/plain": [
       "<matplotlib.image.AxesImage at 0x7fde061adb20>"
      ]
     },
     "execution_count": 18,
     "metadata": {},
     "output_type": "execute_result"
    },
    {
     "data": {
      "image/png": "[encoded data removed]",
      "text/plain": [
       "<Figure size 432x288 with 1 Axes>"
      ]
     },
     "metadata": {
      "needs_background": "light"
     },
     "output_type": "display_data"
    }
   ],
   "source": [
    "plt.imshow(test_images[0])"
   ]
  },
  {
   "cell_type": "code",
   "execution_count": 19,
   "id": "6eb2f622",
   "metadata": {},
   "outputs": [
    {
     "data": {
      "text/plain": [
       "<matplotlib.image.AxesImage at 0x7fde06518fd0>"
      ]
     },
     "execution_count": 19,
     "metadata": {},
     "output_type": "execute_result"
    },
    {
     "data": {
      "image/png": "[encoded data removed]",
      "text/plain": [
       "<Figure size 432x288 with 1 Axes>"
      ]
     },
     "metadata": {
      "needs_background": "light"
     },
     "output_type": "display_data"
    }
   ],
   "source": [
    "plt.imshow(test_images[1])"
   ]
  },
  {
   "cell_type": "code",
   "execution_count": null,
   "id": "0160a180",
   "metadata": {},
   "outputs": [],
   "source": []
  }
 ],
 "metadata": {
  "kernelspec": {
   "display_name": "Python 3 (ipykernel)",
   "language": "python",
   "name": "python3"
  },
  "language_info": {
   "codemirror_mode": {
    "name": "ipython",
    "version": 3
   },
   "file_extension": ".py",
   "mimetype": "text/x-python",
   "name": "python",
   "nbconvert_exporter": "python",
   "pygments_lexer": "ipython3",
   "version": "3.9.12"
  }
 },
 "nbformat": 4,
 "nbformat_minor": 5
}
